{
  "cells": [
    {
      "cell_type": "markdown",
      "metadata": {
        "id": "fKADPWcFKlj3"
      },
      "source": [
        "# **1. Import Library**"
      ]
    },
    {
      "cell_type": "markdown",
      "metadata": {
        "id": "LgA3ERnVn84N"
      },
      "source": [
        "Pada tahap ini, Anda perlu mengimpor beberapa pustaka (library) Python yang dibutuhkan untuk analisis data dan pembangunan model machine learning."
      ]
    },
    {
      "cell_type": "code",
      "execution_count": 1,
      "metadata": {
        "id": "BlmvjLY9M4Yj"
      },
      "outputs": [],
      "source": [
        "import pandas as pd\n",
        "import numpy as np\n",
        "import seaborn as sns\n",
        "import matplotlib.pyplot as plt\n",
        "from sklearn.model_selection import train_test_split\n",
        "from sklearn.preprocessing import LabelEncoder, StandardScaler, MinMaxScaler, OneHotEncoder\n",
        "from sklearn.neighbors import KNeighborsClassifier\n",
        "from sklearn.tree import DecisionTreeClassifier\n",
        "from sklearn.ensemble import RandomForestClassifier\n",
        "from sklearn.svm import SVC\n",
        "from sklearn.naive_bayes import GaussianNB\n",
        "from sklearn.metrics import confusion_matrix, accuracy_score, precision_score, recall_score, f1_score, classification_report\n",
        "from sklearn.model_selection import GridSearchCV"
      ]
    },
    {
      "cell_type": "markdown",
      "metadata": {
        "id": "f3YIEnAFKrKL"
      },
      "source": [
        "# **2. Memuat Dataset dari Hasil Clustering**"
      ]
    },
    {
      "cell_type": "markdown",
      "metadata": {
        "id": "Ey3ItwTen_7E"
      },
      "source": [
        "Memuat dataset hasil clustering dari file CSV ke dalam variabel DataFrame."
      ]
    },
    {
      "cell_type": "code",
      "execution_count": 2,
      "metadata": {
        "colab": {
          "base_uri": "https://localhost:8080/",
          "height": 206
        },
        "id": "GHCGNTyrM5fS",
        "outputId": "e239b1e8-15cb-4b02-db14-f49249f4e3a7"
      },
      "outputs": [
        {
          "output_type": "execute_result",
          "data": {
            "text/plain": [
              "   Unit_Price  Total_Price  Discount  Quantity Customer_Type  Cluster\n",
              "0        1.87       124.54      0.10      74.0           B2B        1\n",
              "1        1.87        31.98      0.05      18.0           B2B        3\n",
              "2        1.64         6.56      0.00       4.0           B2C        0\n",
              "3        1.74         8.70      0.00       5.0           B2C        0\n",
              "4        1.80        27.00      0.00      15.0           B2C        0"
            ],
            "text/html": [
              "\n",
              "  <div id=\"df-b58d1273-c6dd-4dc5-b471-de8f2c7da016\" class=\"colab-df-container\">\n",
              "    <div>\n",
              "<style scoped>\n",
              "    .dataframe tbody tr th:only-of-type {\n",
              "        vertical-align: middle;\n",
              "    }\n",
              "\n",
              "    .dataframe tbody tr th {\n",
              "        vertical-align: top;\n",
              "    }\n",
              "\n",
              "    .dataframe thead th {\n",
              "        text-align: right;\n",
              "    }\n",
              "</style>\n",
              "<table border=\"1\" class=\"dataframe\">\n",
              "  <thead>\n",
              "    <tr style=\"text-align: right;\">\n",
              "      <th></th>\n",
              "      <th>Unit_Price</th>\n",
              "      <th>Total_Price</th>\n",
              "      <th>Discount</th>\n",
              "      <th>Quantity</th>\n",
              "      <th>Customer_Type</th>\n",
              "      <th>Cluster</th>\n",
              "    </tr>\n",
              "  </thead>\n",
              "  <tbody>\n",
              "    <tr>\n",
              "      <th>0</th>\n",
              "      <td>1.87</td>\n",
              "      <td>124.54</td>\n",
              "      <td>0.10</td>\n",
              "      <td>74.0</td>\n",
              "      <td>B2B</td>\n",
              "      <td>1</td>\n",
              "    </tr>\n",
              "    <tr>\n",
              "      <th>1</th>\n",
              "      <td>1.87</td>\n",
              "      <td>31.98</td>\n",
              "      <td>0.05</td>\n",
              "      <td>18.0</td>\n",
              "      <td>B2B</td>\n",
              "      <td>3</td>\n",
              "    </tr>\n",
              "    <tr>\n",
              "      <th>2</th>\n",
              "      <td>1.64</td>\n",
              "      <td>6.56</td>\n",
              "      <td>0.00</td>\n",
              "      <td>4.0</td>\n",
              "      <td>B2C</td>\n",
              "      <td>0</td>\n",
              "    </tr>\n",
              "    <tr>\n",
              "      <th>3</th>\n",
              "      <td>1.74</td>\n",
              "      <td>8.70</td>\n",
              "      <td>0.00</td>\n",
              "      <td>5.0</td>\n",
              "      <td>B2C</td>\n",
              "      <td>0</td>\n",
              "    </tr>\n",
              "    <tr>\n",
              "      <th>4</th>\n",
              "      <td>1.80</td>\n",
              "      <td>27.00</td>\n",
              "      <td>0.00</td>\n",
              "      <td>15.0</td>\n",
              "      <td>B2C</td>\n",
              "      <td>0</td>\n",
              "    </tr>\n",
              "  </tbody>\n",
              "</table>\n",
              "</div>\n",
              "    <div class=\"colab-df-buttons\">\n",
              "\n",
              "  <div class=\"colab-df-container\">\n",
              "    <button class=\"colab-df-convert\" onclick=\"convertToInteractive('df-b58d1273-c6dd-4dc5-b471-de8f2c7da016')\"\n",
              "            title=\"Convert this dataframe to an interactive table.\"\n",
              "            style=\"display:none;\">\n",
              "\n",
              "  <svg xmlns=\"http://www.w3.org/2000/svg\" height=\"24px\" viewBox=\"0 -960 960 960\">\n",
              "    <path d=\"M120-120v-720h720v720H120Zm60-500h600v-160H180v160Zm220 220h160v-160H400v160Zm0 220h160v-160H400v160ZM180-400h160v-160H180v160Zm440 0h160v-160H620v160ZM180-180h160v-160H180v160Zm440 0h160v-160H620v160Z\"/>\n",
              "  </svg>\n",
              "    </button>\n",
              "\n",
              "  <style>\n",
              "    .colab-df-container {\n",
              "      display:flex;\n",
              "      gap: 12px;\n",
              "    }\n",
              "\n",
              "    .colab-df-convert {\n",
              "      background-color: #E8F0FE;\n",
              "      border: none;\n",
              "      border-radius: 50%;\n",
              "      cursor: pointer;\n",
              "      display: none;\n",
              "      fill: #1967D2;\n",
              "      height: 32px;\n",
              "      padding: 0 0 0 0;\n",
              "      width: 32px;\n",
              "    }\n",
              "\n",
              "    .colab-df-convert:hover {\n",
              "      background-color: #E2EBFA;\n",
              "      box-shadow: 0px 1px 2px rgba(60, 64, 67, 0.3), 0px 1px 3px 1px rgba(60, 64, 67, 0.15);\n",
              "      fill: #174EA6;\n",
              "    }\n",
              "\n",
              "    .colab-df-buttons div {\n",
              "      margin-bottom: 4px;\n",
              "    }\n",
              "\n",
              "    [theme=dark] .colab-df-convert {\n",
              "      background-color: #3B4455;\n",
              "      fill: #D2E3FC;\n",
              "    }\n",
              "\n",
              "    [theme=dark] .colab-df-convert:hover {\n",
              "      background-color: #434B5C;\n",
              "      box-shadow: 0px 1px 3px 1px rgba(0, 0, 0, 0.15);\n",
              "      filter: drop-shadow(0px 1px 2px rgba(0, 0, 0, 0.3));\n",
              "      fill: #FFFFFF;\n",
              "    }\n",
              "  </style>\n",
              "\n",
              "    <script>\n",
              "      const buttonEl =\n",
              "        document.querySelector('#df-b58d1273-c6dd-4dc5-b471-de8f2c7da016 button.colab-df-convert');\n",
              "      buttonEl.style.display =\n",
              "        google.colab.kernel.accessAllowed ? 'block' : 'none';\n",
              "\n",
              "      async function convertToInteractive(key) {\n",
              "        const element = document.querySelector('#df-b58d1273-c6dd-4dc5-b471-de8f2c7da016');\n",
              "        const dataTable =\n",
              "          await google.colab.kernel.invokeFunction('convertToInteractive',\n",
              "                                                    [key], {});\n",
              "        if (!dataTable) return;\n",
              "\n",
              "        const docLinkHtml = 'Like what you see? Visit the ' +\n",
              "          '<a target=\"_blank\" href=https://colab.research.google.com/notebooks/data_table.ipynb>data table notebook</a>'\n",
              "          + ' to learn more about interactive tables.';\n",
              "        element.innerHTML = '';\n",
              "        dataTable['output_type'] = 'display_data';\n",
              "        await google.colab.output.renderOutput(dataTable, element);\n",
              "        const docLink = document.createElement('div');\n",
              "        docLink.innerHTML = docLinkHtml;\n",
              "        element.appendChild(docLink);\n",
              "      }\n",
              "    </script>\n",
              "  </div>\n",
              "\n",
              "\n",
              "<div id=\"df-de84028c-5778-4af2-842e-2ec0fe2813f7\">\n",
              "  <button class=\"colab-df-quickchart\" onclick=\"quickchart('df-de84028c-5778-4af2-842e-2ec0fe2813f7')\"\n",
              "            title=\"Suggest charts\"\n",
              "            style=\"display:none;\">\n",
              "\n",
              "<svg xmlns=\"http://www.w3.org/2000/svg\" height=\"24px\"viewBox=\"0 0 24 24\"\n",
              "     width=\"24px\">\n",
              "    <g>\n",
              "        <path d=\"M19 3H5c-1.1 0-2 .9-2 2v14c0 1.1.9 2 2 2h14c1.1 0 2-.9 2-2V5c0-1.1-.9-2-2-2zM9 17H7v-7h2v7zm4 0h-2V7h2v10zm4 0h-2v-4h2v4z\"/>\n",
              "    </g>\n",
              "</svg>\n",
              "  </button>\n",
              "\n",
              "<style>\n",
              "  .colab-df-quickchart {\n",
              "      --bg-color: #E8F0FE;\n",
              "      --fill-color: #1967D2;\n",
              "      --hover-bg-color: #E2EBFA;\n",
              "      --hover-fill-color: #174EA6;\n",
              "      --disabled-fill-color: #AAA;\n",
              "      --disabled-bg-color: #DDD;\n",
              "  }\n",
              "\n",
              "  [theme=dark] .colab-df-quickchart {\n",
              "      --bg-color: #3B4455;\n",
              "      --fill-color: #D2E3FC;\n",
              "      --hover-bg-color: #434B5C;\n",
              "      --hover-fill-color: #FFFFFF;\n",
              "      --disabled-bg-color: #3B4455;\n",
              "      --disabled-fill-color: #666;\n",
              "  }\n",
              "\n",
              "  .colab-df-quickchart {\n",
              "    background-color: var(--bg-color);\n",
              "    border: none;\n",
              "    border-radius: 50%;\n",
              "    cursor: pointer;\n",
              "    display: none;\n",
              "    fill: var(--fill-color);\n",
              "    height: 32px;\n",
              "    padding: 0;\n",
              "    width: 32px;\n",
              "  }\n",
              "\n",
              "  .colab-df-quickchart:hover {\n",
              "    background-color: var(--hover-bg-color);\n",
              "    box-shadow: 0 1px 2px rgba(60, 64, 67, 0.3), 0 1px 3px 1px rgba(60, 64, 67, 0.15);\n",
              "    fill: var(--button-hover-fill-color);\n",
              "  }\n",
              "\n",
              "  .colab-df-quickchart-complete:disabled,\n",
              "  .colab-df-quickchart-complete:disabled:hover {\n",
              "    background-color: var(--disabled-bg-color);\n",
              "    fill: var(--disabled-fill-color);\n",
              "    box-shadow: none;\n",
              "  }\n",
              "\n",
              "  .colab-df-spinner {\n",
              "    border: 2px solid var(--fill-color);\n",
              "    border-color: transparent;\n",
              "    border-bottom-color: var(--fill-color);\n",
              "    animation:\n",
              "      spin 1s steps(1) infinite;\n",
              "  }\n",
              "\n",
              "  @keyframes spin {\n",
              "    0% {\n",
              "      border-color: transparent;\n",
              "      border-bottom-color: var(--fill-color);\n",
              "      border-left-color: var(--fill-color);\n",
              "    }\n",
              "    20% {\n",
              "      border-color: transparent;\n",
              "      border-left-color: var(--fill-color);\n",
              "      border-top-color: var(--fill-color);\n",
              "    }\n",
              "    30% {\n",
              "      border-color: transparent;\n",
              "      border-left-color: var(--fill-color);\n",
              "      border-top-color: var(--fill-color);\n",
              "      border-right-color: var(--fill-color);\n",
              "    }\n",
              "    40% {\n",
              "      border-color: transparent;\n",
              "      border-right-color: var(--fill-color);\n",
              "      border-top-color: var(--fill-color);\n",
              "    }\n",
              "    60% {\n",
              "      border-color: transparent;\n",
              "      border-right-color: var(--fill-color);\n",
              "    }\n",
              "    80% {\n",
              "      border-color: transparent;\n",
              "      border-right-color: var(--fill-color);\n",
              "      border-bottom-color: var(--fill-color);\n",
              "    }\n",
              "    90% {\n",
              "      border-color: transparent;\n",
              "      border-bottom-color: var(--fill-color);\n",
              "    }\n",
              "  }\n",
              "</style>\n",
              "\n",
              "  <script>\n",
              "    async function quickchart(key) {\n",
              "      const quickchartButtonEl =\n",
              "        document.querySelector('#' + key + ' button');\n",
              "      quickchartButtonEl.disabled = true;  // To prevent multiple clicks.\n",
              "      quickchartButtonEl.classList.add('colab-df-spinner');\n",
              "      try {\n",
              "        const charts = await google.colab.kernel.invokeFunction(\n",
              "            'suggestCharts', [key], {});\n",
              "      } catch (error) {\n",
              "        console.error('Error during call to suggestCharts:', error);\n",
              "      }\n",
              "      quickchartButtonEl.classList.remove('colab-df-spinner');\n",
              "      quickchartButtonEl.classList.add('colab-df-quickchart-complete');\n",
              "    }\n",
              "    (() => {\n",
              "      let quickchartButtonEl =\n",
              "        document.querySelector('#df-de84028c-5778-4af2-842e-2ec0fe2813f7 button');\n",
              "      quickchartButtonEl.style.display =\n",
              "        google.colab.kernel.accessAllowed ? 'block' : 'none';\n",
              "    })();\n",
              "  </script>\n",
              "</div>\n",
              "\n",
              "    </div>\n",
              "  </div>\n"
            ],
            "application/vnd.google.colaboratory.intrinsic+json": {
              "type": "dataframe",
              "variable_name": "df",
              "summary": "{\n  \"name\": \"df\",\n  \"rows\": 50411,\n  \"fields\": [\n    {\n      \"column\": \"Unit_Price\",\n      \"properties\": {\n        \"dtype\": \"number\",\n        \"std\": 0.9980099094832169,\n        \"min\": 0.32,\n        \"max\": 6.45,\n        \"num_unique_values\": 553,\n        \"samples\": [\n          5.07,\n          3.56,\n          4.49\n        ],\n        \"semantic_type\": \"\",\n        \"description\": \"\"\n      }\n    },\n    {\n      \"column\": \"Total_Price\",\n      \"properties\": {\n        \"dtype\": \"number\",\n        \"std\": 40.675198165176674,\n        \"min\": 0.3100000000000023,\n        \"max\": 171.17,\n        \"num_unique_values\": 9653,\n        \"samples\": [\n          33.75,\n          24.28,\n          81.09\n        ],\n        \"semantic_type\": \"\",\n        \"description\": \"\"\n      }\n    },\n    {\n      \"column\": \"Discount\",\n      \"properties\": {\n        \"dtype\": \"number\",\n        \"std\": 0.046362170923645564,\n        \"min\": 0.0,\n        \"max\": 0.15,\n        \"num_unique_values\": 4,\n        \"samples\": [\n          0.05,\n          0.15,\n          0.1\n        ],\n        \"semantic_type\": \"\",\n        \"description\": \"\"\n      }\n    },\n    {\n      \"column\": \"Quantity\",\n      \"properties\": {\n        \"dtype\": \"number\",\n        \"std\": 27.17079929452145,\n        \"min\": 1.0,\n        \"max\": 100.0,\n        \"num_unique_values\": 100,\n        \"samples\": [\n          59.0,\n          65.0,\n          33.0\n        ],\n        \"semantic_type\": \"\",\n        \"description\": \"\"\n      }\n    },\n    {\n      \"column\": \"Customer_Type\",\n      \"properties\": {\n        \"dtype\": \"category\",\n        \"num_unique_values\": 2,\n        \"samples\": [\n          \"B2C\",\n          \"B2B\"\n        ],\n        \"semantic_type\": \"\",\n        \"description\": \"\"\n      }\n    },\n    {\n      \"column\": \"Cluster\",\n      \"properties\": {\n        \"dtype\": \"number\",\n        \"std\": 1,\n        \"min\": 0,\n        \"max\": 3,\n        \"num_unique_values\": 4,\n        \"samples\": [\n          3,\n          2\n        ],\n        \"semantic_type\": \"\",\n        \"description\": \"\"\n      }\n    }\n  ]\n}"
            }
          },
          "metadata": {},
          "execution_count": 2
        }
      ],
      "source": [
        "df = pd.read_csv('Dataset_clustering.csv')\n",
        "df.head()"
      ]
    },
    {
      "cell_type": "code",
      "execution_count": 3,
      "metadata": {
        "colab": {
          "base_uri": "https://localhost:8080/"
        },
        "id": "yLmal6aZvBv5",
        "outputId": "c78a7a54-1656-43e4-af61-0af53441bb2e"
      },
      "outputs": [
        {
          "output_type": "stream",
          "name": "stdout",
          "text": [
            "\n",
            "Informasi dataset:\n",
            "<class 'pandas.core.frame.DataFrame'>\n",
            "RangeIndex: 50411 entries, 0 to 50410\n",
            "Data columns (total 6 columns):\n",
            " #   Column         Non-Null Count  Dtype  \n",
            "---  ------         --------------  -----  \n",
            " 0   Unit_Price     50411 non-null  float64\n",
            " 1   Total_Price    50411 non-null  float64\n",
            " 2   Discount       50411 non-null  float64\n",
            " 3   Quantity       50411 non-null  float64\n",
            " 4   Customer_Type  50411 non-null  object \n",
            " 5   Cluster        50411 non-null  int64  \n",
            "dtypes: float64(4), int64(1), object(1)\n",
            "memory usage: 2.3+ MB\n"
          ]
        }
      ],
      "source": [
        "# Tampilkan informasi umum tentang dataset\n",
        "print(\"\\nInformasi dataset:\")\n",
        "df.info()"
      ]
    },
    {
      "cell_type": "code",
      "execution_count": 4,
      "metadata": {
        "colab": {
          "base_uri": "https://localhost:8080/",
          "height": 272
        },
        "id": "_oejlm92vQ_p",
        "outputId": "94b90262-656f-433f-bcce-a074bd4c75e6"
      },
      "outputs": [
        {
          "output_type": "execute_result",
          "data": {
            "text/plain": [
              "Unit_Price       0\n",
              "Total_Price      0\n",
              "Discount         0\n",
              "Quantity         0\n",
              "Customer_Type    0\n",
              "Cluster          0\n",
              "dtype: int64"
            ],
            "text/html": [
              "<div>\n",
              "<style scoped>\n",
              "    .dataframe tbody tr th:only-of-type {\n",
              "        vertical-align: middle;\n",
              "    }\n",
              "\n",
              "    .dataframe tbody tr th {\n",
              "        vertical-align: top;\n",
              "    }\n",
              "\n",
              "    .dataframe thead th {\n",
              "        text-align: right;\n",
              "    }\n",
              "</style>\n",
              "<table border=\"1\" class=\"dataframe\">\n",
              "  <thead>\n",
              "    <tr style=\"text-align: right;\">\n",
              "      <th></th>\n",
              "      <th>0</th>\n",
              "    </tr>\n",
              "  </thead>\n",
              "  <tbody>\n",
              "    <tr>\n",
              "      <th>Unit_Price</th>\n",
              "      <td>0</td>\n",
              "    </tr>\n",
              "    <tr>\n",
              "      <th>Total_Price</th>\n",
              "      <td>0</td>\n",
              "    </tr>\n",
              "    <tr>\n",
              "      <th>Discount</th>\n",
              "      <td>0</td>\n",
              "    </tr>\n",
              "    <tr>\n",
              "      <th>Quantity</th>\n",
              "      <td>0</td>\n",
              "    </tr>\n",
              "    <tr>\n",
              "      <th>Customer_Type</th>\n",
              "      <td>0</td>\n",
              "    </tr>\n",
              "    <tr>\n",
              "      <th>Cluster</th>\n",
              "      <td>0</td>\n",
              "    </tr>\n",
              "  </tbody>\n",
              "</table>\n",
              "</div><br><label><b>dtype:</b> int64</label>"
            ]
          },
          "metadata": {},
          "execution_count": 4
        }
      ],
      "source": [
        "# Cek missing value\n",
        "df.isnull().sum()"
      ]
    },
    {
      "cell_type": "code",
      "execution_count": 5,
      "metadata": {
        "colab": {
          "base_uri": "https://localhost:8080/"
        },
        "id": "YZI02jGlytWz",
        "outputId": "8f3bd3b1-7b29-4f95-9da3-a53c25baf3b1"
      },
      "outputs": [
        {
          "output_type": "stream",
          "name": "stdout",
          "text": [
            "Jumlah duplikat sebelum penghapusan: 28716\n",
            "Jumlah duplikat setelah penghapusan: 0\n",
            "Jumlah baris dan kolom sekarang: (21695, 6)\n"
          ]
        }
      ],
      "source": [
        "# Cek jumlah duplikat\n",
        "duplicate_count = df.duplicated().sum()\n",
        "print(f\"Jumlah duplikat sebelum penghapusan: {duplicate_count}\")\n",
        "\n",
        "# Hapus data duplikat\n",
        "df = df.drop_duplicates()\n",
        "\n",
        "# Cek jumlah duplikat setelah penghapusan\n",
        "duplicate_count_after = df.duplicated().sum()\n",
        "print(f\"Jumlah duplikat setelah penghapusan: {duplicate_count_after}\")\n",
        "\n",
        "# Jumlah baris dan kolom sekarang\n",
        "print(\"Jumlah baris dan kolom sekarang:\", df.shape)"
      ]
    },
    {
      "cell_type": "code",
      "execution_count": 6,
      "metadata": {
        "colab": {
          "base_uri": "https://localhost:8080/"
        },
        "id": "NA4y2Cyuzve3",
        "outputId": "e33cdaf8-f43e-40e8-cf74-8dc88b18ab6f"
      },
      "outputs": [
        {
          "output_type": "stream",
          "name": "stdout",
          "text": [
            "<class 'pandas.core.frame.DataFrame'>\n",
            "Index: 21695 entries, 0 to 50410\n",
            "Data columns (total 6 columns):\n",
            " #   Column         Non-Null Count  Dtype  \n",
            "---  ------         --------------  -----  \n",
            " 0   Unit_Price     21695 non-null  float64\n",
            " 1   Total_Price    21695 non-null  float64\n",
            " 2   Discount       21695 non-null  float64\n",
            " 3   Quantity       21695 non-null  float64\n",
            " 4   Customer_Type  21695 non-null  object \n",
            " 5   Cluster        21695 non-null  int64  \n",
            "dtypes: float64(4), int64(1), object(1)\n",
            "memory usage: 1.2+ MB\n"
          ]
        }
      ],
      "source": [
        "df.info()"
      ]
    },
    {
      "cell_type": "markdown",
      "metadata": {
        "id": "KkPem5eWL2UP"
      },
      "source": [
        "# **3. Data Splitting**"
      ]
    },
    {
      "cell_type": "markdown",
      "metadata": {
        "id": "YYj1rl_JNI9Y"
      },
      "source": [
        "Tahap Data Splitting bertujuan untuk memisahkan dataset menjadi dua bagian: data latih (training set) dan data uji (test set)."
      ]
    },
    {
      "cell_type": "code",
      "execution_count": 7,
      "metadata": {
        "colab": {
          "base_uri": "https://localhost:8080/"
        },
        "id": "OubAW-7ONKVj",
        "outputId": "7a30e7ff-e6c9-47a9-f687-b09d7a9d2d70"
      },
      "outputs": [
        {
          "output_type": "stream",
          "name": "stdout",
          "text": [
            "Shape X_train: (17356, 6)\n",
            "Shape X_test: (4339, 6)\n",
            "Sample X_train:\n",
            "        Unit_Price  Total_Price  Discount  Quantity  Customer_Type_B2B  \\\n",
            "17537   -0.310829     0.709107  1.900220  1.339624                1.0   \n",
            "7614    -1.081248    -1.085029 -0.650652 -0.883689                1.0   \n",
            "27982   -0.374151     0.766636 -0.650652  1.232044                1.0   \n",
            "6930    -0.606332    -1.202940 -1.926087 -1.349868                0.0   \n",
            "24909   -0.479688    -0.515235  0.624784 -0.309931                1.0   \n",
            "\n",
            "       Customer_Type_B2C  \n",
            "17537                0.0  \n",
            "7614                 0.0  \n",
            "27982                0.0  \n",
            "6930                 1.0  \n",
            "24909                0.0  \n"
          ]
        }
      ],
      "source": [
        "# Pisahkan fitur dan target\n",
        "X = df.drop(columns=[\"Cluster\"])\n",
        "y = df[\"Cluster\"]\n",
        "\n",
        "# Identifikasi kolom numerik dan kategorikal\n",
        "numerical_cols = X.select_dtypes(include=[\"number\"]).columns\n",
        "categorical_cols = X.select_dtypes(include=[\"object\", \"category\"]).columns\n",
        "\n",
        "# Split data\n",
        "X_train, X_test, y_train, y_test = train_test_split(X, y, test_size=0.2, random_state=42, stratify=y)\n",
        "\n",
        "# Standarisasi fitur numerik\n",
        "scaler = StandardScaler()\n",
        "X_train[numerical_cols] = scaler.fit_transform(X_train[numerical_cols])\n",
        "X_test[numerical_cols] = scaler.transform(X_test[numerical_cols])\n",
        "\n",
        "# One-Hot Encoding untuk fitur kategorikal\n",
        "encoder = OneHotEncoder(handle_unknown='ignore', sparse_output=False)\n",
        "X_train_categorical = pd.DataFrame(encoder.fit_transform(X_train[categorical_cols]), columns=encoder.get_feature_names_out(), index=X_train.index)\n",
        "X_test_categorical = pd.DataFrame(encoder.transform(X_test[categorical_cols]), columns=encoder.get_feature_names_out(), index=X_test.index)\n",
        "\n",
        "# Gabungkan kembali fitur numerik dan kategorikal\n",
        "X_train = pd.concat([X_train[numerical_cols], X_train_categorical], axis=1)\n",
        "X_test = pd.concat([X_test[numerical_cols], X_test_categorical], axis=1)\n",
        "\n",
        "print(\"Shape X_train:\", X_train.shape)\n",
        "print(\"Shape X_test:\", X_test.shape)\n",
        "print(\"Sample X_train:\\n\", X_train.head())"
      ]
    },
    {
      "cell_type": "markdown",
      "metadata": {
        "id": "IVPbB03CMhTT"
      },
      "source": [
        "# **4. Membangun Model Klasifikasi**\n"
      ]
    },
    {
      "cell_type": "markdown",
      "metadata": {
        "id": "Ned1pL9zMmBK"
      },
      "source": [
        "## **a. Membangun Model Klasifikasi**"
      ]
    },
    {
      "cell_type": "markdown",
      "metadata": {
        "id": "WAWzPOE4Nkti"
      },
      "source": [
        "Setelah memilih algoritma klasifikasi yang sesuai, langkah selanjutnya adalah melatih model menggunakan data latih.\n",
        "\n",
        "Berikut adalah rekomendasi tahapannya.\n",
        "1. Pilih algoritma klasifikasi yang sesuai, seperti Logistic Regression, Decision Tree, Random Forest, atau K-Nearest Neighbors (KNN).\n",
        "2. Latih model menggunakan data latih."
      ]
    },
    {
      "cell_type": "code",
      "execution_count": 8,
      "metadata": {
        "colab": {
          "base_uri": "https://localhost:8080/"
        },
        "id": "4JYxBe87NLDk",
        "outputId": "04e1f8bf-d88c-4a81-920a-7ce3c2cb8d35"
      },
      "outputs": [
        {
          "output_type": "stream",
          "name": "stdout",
          "text": [
            "Model training selesai.\n"
          ]
        }
      ],
      "source": [
        "# Definisikan setiap klasifikasi secara terpisah\n",
        "knn = KNeighborsClassifier().fit(X_train, y_train)\n",
        "dt = DecisionTreeClassifier().fit(X_train, y_train)\n",
        "rf = RandomForestClassifier().fit(X_train, y_train)\n",
        "svm = SVC().fit(X_train, y_train)\n",
        "nb = GaussianNB().fit(X_train, y_train)\n",
        "\n",
        "print(\"Model training selesai.\")"
      ]
    },
    {
      "cell_type": "markdown",
      "metadata": {
        "id": "seYoHNY3XU1y"
      },
      "source": [
        "- K-Nearest Neighbors (KNN) adalah metode supervised learning yang digunakan untuk mengatasi masalah klasifikasi dan regresi. Algoritma ini digunakan untuk mengklasifikasikan data baru berdasarkan kedekatannya dengan data yang sudah diberi label dalam dataset pelatihan.\n",
        "- Decision Tree adalah algoritma machine learning yang sering digunakan dalam tugas klasifikasi dan regresi. Struktur dari algoritma ini mirip dengan bentuk pohon dengan setiap cabang mewakili keputusan atau percabangan dari data berdasarkan fitur-fitur yang ada.\n",
        "- Random Forest adalah algoritma ensemble learning yang menggabungkan beberapa Decision Tree untuk meningkatkan akurasi prediksi dan mengurangi risiko overfitting. Tujuan utama Random Forest adalah mengatasi kelemahan Decision Tree yang cenderung overfit terhadap data pelatihan.\n",
        "- Support vector machine (SVM) adalah salah satu algoritma machine learning yang digunakan untuk klasifikasi dan regresi. Namun, SVM lebih sering digunakan pada masalah klasifikasi. SVM bekerja dengan mencari hyperplane yang optimal untuk memisahkan data ke dalam kelas-kelas yang berbeda.\n",
        "- Naive Bayes adalah algoritma klasifikasi berbasis probabilitas yang berdasarkan pada Teorema Bayes, dengan asumsi bahwa fitur-fitur dalam data bersifat independen satu sama lain. Naive Bayes menggunakan prinsip probabilitas untuk memprediksi kelas dari data baru berdasarkan pengamatan fitur yang ada."
      ]
    },
    {
      "cell_type": "markdown",
      "metadata": {
        "id": "ergzChZFEL-O"
      },
      "source": [
        "## **b. Evaluasi Model Klasifikasi**"
      ]
    },
    {
      "cell_type": "markdown",
      "metadata": {
        "id": "zOm68u-7NpLT"
      },
      "source": [
        "Berikut adalah **rekomendasi** tahapannya.\n",
        "1. Lakukan prediksi menggunakan data uji.\n",
        "2. Hitung metrik evaluasi seperti Accuracy dan F1-Score (Opsional: Precision dan Recall).\n",
        "3. Buat confusion matrix untuk melihat detail prediksi benar dan salah."
      ]
    },
    {
      "cell_type": "code",
      "execution_count": 9,
      "metadata": {
        "colab": {
          "base_uri": "https://localhost:8080/",
          "height": 1000
        },
        "id": "v5MqUXSaNB10",
        "outputId": "9642b804-18b3-4d91-a78d-bb6932a94a7c"
      },
      "outputs": [
        {
          "output_type": "stream",
          "name": "stdout",
          "text": [
            "Evaluasi Model: KNN\n",
            "Accuracy: 0.9945\n",
            "Precision: 0.9945\n",
            "Recall: 0.9945\n",
            "F1-Score: 0.9945\n",
            "\n",
            "Classification Report:\n",
            "               precision    recall  f1-score   support\n",
            "\n",
            "           0       1.00      1.00      1.00       260\n",
            "           1       1.00      0.99      1.00      1826\n",
            "           2       0.99      0.97      0.98       280\n",
            "           3       0.99      1.00      1.00      1973\n",
            "\n",
            "    accuracy                           0.99      4339\n",
            "   macro avg       0.99      0.99      0.99      4339\n",
            "weighted avg       0.99      0.99      0.99      4339\n",
            "\n"
          ]
        },
        {
          "output_type": "display_data",
          "data": {
            "text/plain": [
              "<Figure size 600x400 with 2 Axes>"
            ],
            "image/png": "[encoded data removed]"
          },
          "metadata": {}
        },
        {
          "output_type": "stream",
          "name": "stdout",
          "text": [
            "\n",
            "====================================================================\n",
            "\n",
            "Evaluasi Model: Decision Tree\n",
            "Accuracy: 0.9924\n",
            "Precision: 0.9924\n",
            "Recall: 0.9924\n",
            "F1-Score: 0.9924\n",
            "\n",
            "Classification Report:\n",
            "               precision    recall  f1-score   support\n",
            "\n",
            "           0       1.00      0.99      0.99       260\n",
            "           1       0.99      0.99      0.99      1826\n",
            "           2       0.99      0.97      0.98       280\n",
            "           3       0.99      1.00      0.99      1973\n",
            "\n",
            "    accuracy                           0.99      4339\n",
            "   macro avg       0.99      0.99      0.99      4339\n",
            "weighted avg       0.99      0.99      0.99      4339\n",
            "\n"
          ]
        },
        {
          "output_type": "display_data",
          "data": {
            "text/plain": [
              "<Figure size 600x400 with 2 Axes>"
            ],
            "image/png": "[encoded data removed]"
          },
          "metadata": {}
        },
        {
          "output_type": "stream",
          "name": "stdout",
          "text": [
            "\n",
            "====================================================================\n",
            "\n",
            "Evaluasi Model: Random Forest\n",
            "Accuracy: 0.9959\n",
            "Precision: 0.9959\n",
            "Recall: 0.9959\n",
            "F1-Score: 0.9958\n",
            "\n",
            "Classification Report:\n",
            "               precision    recall  f1-score   support\n",
            "\n",
            "           0       1.00      1.00      1.00       260\n",
            "           1       1.00      0.99      1.00      1826\n",
            "           2       0.99      0.99      0.99       280\n",
            "           3       0.99      1.00      1.00      1973\n",
            "\n",
            "    accuracy                           1.00      4339\n",
            "   macro avg       1.00      0.99      1.00      4339\n",
            "weighted avg       1.00      1.00      1.00      4339\n",
            "\n"
          ]
        },
        {
          "output_type": "display_data",
          "data": {
            "text/plain": [
              "<Figure size 600x400 with 2 Axes>"
            ],
            "image/png": "[encoded data removed]"
          },
          "metadata": {}
        },
        {
          "output_type": "stream",
          "name": "stdout",
          "text": [
            "\n",
            "====================================================================\n",
            "\n",
            "Evaluasi Model: SVM\n",
            "Accuracy: 0.9945\n",
            "Precision: 0.9945\n",
            "Recall: 0.9945\n",
            "F1-Score: 0.9945\n",
            "\n",
            "Classification Report:\n",
            "               precision    recall  f1-score   support\n",
            "\n",
            "           0       1.00      1.00      1.00       260\n",
            "           1       1.00      1.00      1.00      1826\n",
            "           2       1.00      0.97      0.98       280\n",
            "           3       0.99      1.00      0.99      1973\n",
            "\n",
            "    accuracy                           0.99      4339\n",
            "   macro avg       1.00      0.99      0.99      4339\n",
            "weighted avg       0.99      0.99      0.99      4339\n",
            "\n"
          ]
        },
        {
          "output_type": "display_data",
          "data": {
            "text/plain": [
              "<Figure size 600x400 with 2 Axes>"
            ],
            "image/png": "[encoded data removed]"
          },
          "metadata": {}
        },
        {
          "output_type": "stream",
          "name": "stdout",
          "text": [
            "\n",
            "====================================================================\n",
            "\n",
            "Evaluasi Model: Naive Bayes\n",
            "Accuracy: 0.9279\n",
            "Precision: 0.9331\n",
            "Recall: 0.9279\n",
            "F1-Score: 0.8991\n",
            "\n",
            "Classification Report:\n",
            "               precision    recall  f1-score   support\n",
            "\n",
            "           0       0.84      1.00      0.92       260\n",
            "           1       0.93      1.00      0.96      1826\n",
            "           2       1.00      0.02      0.04       280\n",
            "           3       0.94      0.98      0.96      1973\n",
            "\n",
            "    accuracy                           0.93      4339\n",
            "   macro avg       0.93      0.75      0.72      4339\n",
            "weighted avg       0.93      0.93      0.90      4339\n",
            "\n"
          ]
        },
        {
          "output_type": "display_data",
          "data": {
            "text/plain": [
              "<Figure size 600x400 with 2 Axes>"
            ],
            "image/png": "[encoded data removed]"
          },
          "metadata": {}
        },
        {
          "output_type": "stream",
          "name": "stdout",
          "text": [
            "\n",
            "====================================================================\n",
            "\n"
          ]
        }
      ],
      "source": [
        "# Buat daftar model untuk evaluasi\n",
        "models = {\n",
        "    \"KNN\": knn,\n",
        "    \"Decision Tree\": dt,\n",
        "    \"Random Forest\": rf,\n",
        "    \"SVM\": svm,\n",
        "    \"Naive Bayes\": nb\n",
        "}\n",
        "\n",
        "# Evaluasi setiap model\n",
        "for name, model in models.items():\n",
        "    print(f\"Evaluasi Model: {name}\")\n",
        "\n",
        "    # Prediksi data uji\n",
        "    y_pred = model.predict(X_test)\n",
        "\n",
        "    # Hitung metrik evaluasi\n",
        "    accuracy = accuracy_score(y_test, y_pred)\n",
        "    precision = precision_score(y_test, y_pred, average='weighted')\n",
        "    recall = recall_score(y_test, y_pred, average='weighted')\n",
        "    f1 = f1_score(y_test, y_pred, average='weighted')\n",
        "\n",
        "    # Tampilkan hasil evaluasi\n",
        "    print(f\"Accuracy: {accuracy:.4f}\")\n",
        "    print(f\"Precision: {precision:.4f}\")\n",
        "    print(f\"Recall: {recall:.4f}\")\n",
        "    print(f\"F1-Score: {f1:.4f}\")\n",
        "    print(\"\\nClassification Report:\\n\", classification_report(y_test, y_pred))\n",
        "\n",
        "    # Confusion Matrix\n",
        "    cm = confusion_matrix(y_test, y_pred)\n",
        "    plt.figure(figsize=(6, 4))\n",
        "    sns.heatmap(cm, annot=True, fmt='d', cmap='Blues', xticklabels=model.classes_, yticklabels=model.classes_)\n",
        "    plt.xlabel(\"Predicted Label\")\n",
        "    plt.ylabel(\"True Label\")\n",
        "    plt.title(f\"Confusion Matrix - {name}\")\n",
        "    plt.show()\n",
        "    print(\"\\n\" + \"=\"*68 + \"\\n\")"
      ]
    },
    {
      "cell_type": "markdown",
      "metadata": {
        "id": "H4_9OwrsXZlz"
      },
      "source": [
        "### KNN\n",
        "KNN memiliki akurasi yang sangat tinggi, yaitu 99.45%, hanya berbeda 0.9% dibandingkan Random Forest. Dengan tingkat kesalahan prediksi hanya 0.55%, KNN berhasil mengklasifikasikan data dengan sangat baik, menghasilkan tingkat kesalahan yang sangat rendah. Model ini bekerja dengan baik karena KNN mampu mengenali pola dengan efektif dalam dataset ini, terutama dengan jumlah data yang besar.\n",
        "### Decision Tree\n",
        "Decision Tree memiliki akurasi 99.29%, hanya berbeda 0.25% dibandingkan dengan Random Forest. Meskipun perbedaannya kecil, Decision Tree lebih rentan terhadap overfitting.\n",
        "### Random Forest\n",
        "Dari hasil evaluasi, Random Forest menjadi model dengan kinerja terbaik dengan akurasi tertinggi sebesar 99.54%, hanya memiliki kesalahan prediksi sekitar 0.46% dari total data uji. Model ini bekerja sangat baik karena menggunakan metode ensemble learning, di mana keputusan akhir dibuat berdasarkan kombinasi banyak pohon keputusan, sehingga mengurangi risiko overfitting. Confusion matrix menunjukkan bahwa model ini hampir sempurna dalam mengklasifikasikan semua kelas dengan jumlah kesalahan yang sangat minim.\n",
        "### SVM\n",
        "Sama seperti KNN, Kedua model ini memiliki akurasi yang sangat tinggi, yaitu 99.45%, hanya berbeda 0.9% dibandingkan Random Forest. Dengan tingkat kesalahan prediksi hanya 0.55%.\n",
        "### Naive Bayes\n",
        "Dari semua model yang diuji, Naive Bayes memiliki akurasi paling rendah, yaitu 92.79%, berbeda sekitar 6.75% dibandingkan Random Forest. Dari confusion matrix, terlihat bahwa model ini mengalami banyak kesalahan klasifikasi, terutama pada kelas ke-2, di mana banyak data diklasifikasikan dengan salah. Model ini bekerja berdasarkan asumsi bahwa setiap fitur dalam data bersifat independen, yang kemungkinan besar tidak sepenuhnya berlaku dalam dataset yang digunakan.\n",
        "\n",
        "### Kesimpulan\n",
        "- Berdasarkan evaluasi terhadap lima model klasifikasi, Random Forest adalah model terbaik untuk dataset ini, dengan akurasi tertinggi sebesar 99.54%.\n",
        "- Selain itu, KNN dan SVM juga menunjukkan performa yang sangat baik, dengan akurasi 99.45%, hanya sedikit lebih rendah dibandingkan Random Forest.\n",
        "- Naive Bayes memiliki performa paling rendah dengan akurasi 92.79% dan mengalami banyak kesalahan klasifikasi, terutama pada kelas ke-2. Model ini kurang cocok digunakan pada dataset ini karena tidak dapat menangani ketergantungan antar fitur dengan baik."
      ]
    },
    {
      "cell_type": "markdown",
      "metadata": {
        "id": "ph9yIYDXEPuB"
      },
      "source": [
        "## **c. Tuning Model Klasifikasi (Optional)**"
      ]
    },
    {
      "cell_type": "markdown",
      "metadata": {
        "id": "-Bikx3LINv5e"
      },
      "source": [
        "Gunakan GridSearchCV, RandomizedSearchCV, atau metode lainnya untuk mencari kombinasi hyperparameter terbaik"
      ]
    },
    {
      "cell_type": "code",
      "execution_count": 10,
      "metadata": {
        "colab": {
          "base_uri": "https://localhost:8080/"
        },
        "id": "S7_pOMp-HqL9",
        "outputId": "2bc4411b-f9a4-48e1-a8fe-65e6ded8ee01"
      },
      "outputs": [
        {
          "output_type": "stream",
          "name": "stdout",
          "text": [
            "Best parameters for Random Forest: {'max_depth': None, 'min_samples_leaf': 1, 'min_samples_split': 2, 'n_estimators': 200}\n",
            "Best score: 0.9951\n",
            "\n",
            "Best parameters for KNN: {'metric': 'euclidean', 'n_neighbors': 6, 'weights': 'distance'}\n",
            "Best score: 0.9949\n",
            "\n",
            "Best parameters for Decision Tree: {'max_depth': None, 'min_samples_leaf': 1, 'min_samples_split': 2}\n",
            "Best score: 0.9920\n",
            "\n",
            "Best parameters for SVM: {'C': 100, 'gamma': 'scale', 'kernel': 'linear'}\n",
            "Best score: 0.9994\n",
            "\n",
            "Best parameters for Naive Bayes: Default Parameters\n",
            "Best score: 0.9237\n",
            "\n"
          ]
        }
      ],
      "source": [
        "# Dictionary untuk menyimpan hasil tuning\n",
        "best_params = {}\n",
        "best_scores = {}\n",
        "\n",
        "# 1. Random Forest\n",
        "rf_params = {\n",
        "    'n_estimators': [100, 150, 200],\n",
        "    'max_depth': [None, 10, 20],\n",
        "    'min_samples_split': [2, 5, 10],\n",
        "    'min_samples_leaf': [1, 2, 4]\n",
        "}\n",
        "gs_rf = GridSearchCV(RandomForestClassifier(), rf_params, cv=5, n_jobs=-1)\n",
        "gs_rf.fit(X_train, y_train)\n",
        "best_params['Random Forest'] = gs_rf.best_params_\n",
        "best_scores['Random Forest'] = gs_rf.best_score_\n",
        "\n",
        "# 2. K-Nearest Neighbors (KNN)\n",
        "knn_params = {\n",
        "    'n_neighbors': [3, 5, 6, 7, 9],\n",
        "    'weights': ['uniform', 'distance'],\n",
        "    'metric': ['euclidean', 'manhattan', 'minkowski']\n",
        "}\n",
        "gs_knn = GridSearchCV(KNeighborsClassifier(), knn_params, cv=5, n_jobs=-1)\n",
        "gs_knn.fit(X_train, y_train)\n",
        "best_params['KNN'] = gs_knn.best_params_\n",
        "best_scores['KNN'] = gs_knn.best_score_\n",
        "\n",
        "# 3. Decision Tree\n",
        "dt_params = {\n",
        "    'max_depth': [5, 10, 15, None],\n",
        "    'min_samples_split': [2, 5, 10],\n",
        "    'min_samples_leaf': [1, 2, 5]\n",
        "}\n",
        "gs_dt = GridSearchCV(DecisionTreeClassifier(), dt_params, cv=5, n_jobs=-1)\n",
        "gs_dt.fit(X_train, y_train)\n",
        "best_params['Decision Tree'] = gs_dt.best_params_\n",
        "best_scores['Decision Tree'] = gs_dt.best_score_\n",
        "\n",
        "# 4. Support Vector Machine (SVM)\n",
        "svm_params = {\n",
        "    'C': [0.1, 1, 10, 100],\n",
        "    'kernel': ['linear', 'rbf', 'poly'],\n",
        "    'gamma': ['scale', 'auto']\n",
        "}\n",
        "gs_svm = GridSearchCV(SVC(), svm_params, cv=5, n_jobs=-1)\n",
        "gs_svm.fit(X_train, y_train)\n",
        "best_params['SVM'] = gs_svm.best_params_\n",
        "best_scores['SVM'] = gs_svm.best_score_\n",
        "\n",
        "# 5. Naive Bayes (Tidak perlu tuning karena parameter terbatas)\n",
        "nb_model = GaussianNB()\n",
        "nb_model.fit(X_train, y_train)\n",
        "best_params['Naive Bayes'] = 'Default Parameters'\n",
        "best_scores['Naive Bayes'] = nb_model.score(X_train, y_train)\n",
        "\n",
        "# Menampilkan hasil tuning\n",
        "for model in best_params.keys():\n",
        "    print(f\"Best parameters for {model}: {best_params[model]}\")\n",
        "    print(f\"Best score: {best_scores[model]:.4f}\\n\")"
      ]
    },
    {
      "cell_type": "markdown",
      "source": [
        "Dari hasil tuning, SVM memiliki kombinasi hyperparameter terbaik dengan score 99.94%, lalu Random Forest yang memiliki score 99.51%"
      ],
      "metadata": {
        "id": "5fsTpX8jNSxl"
      }
    },
    {
      "cell_type": "markdown",
      "metadata": {
        "id": "hE7pqlEPEYzI"
      },
      "source": [
        "## **d. Evaluasi Model Klasifikasi setelah Tuning (Optional)**"
      ]
    },
    {
      "cell_type": "markdown",
      "metadata": {
        "id": "feaPESoeN0zz"
      },
      "source": [
        "Berikut adalah rekomendasi tahapannya.\n",
        "1. Gunakan model dengan hyperparameter terbaik.\n",
        "2. Hitung ulang metrik evaluasi untuk melihat apakah ada peningkatan performa."
      ]
    },
    {
      "cell_type": "code",
      "execution_count": 11,
      "metadata": {
        "colab": {
          "base_uri": "https://localhost:8080/",
          "height": 1000
        },
        "id": "HTXZRvEeNMb1",
        "outputId": "b96a702d-7b29-4a08-e101-ed06d60840f6"
      },
      "outputs": [
        {
          "output_type": "stream",
          "name": "stdout",
          "text": [
            "Evaluasi Model Setelah Tuning:\n",
            "\n",
            "Model: SVM\n",
            " - Accuracy: 0.9995\n",
            " - Precision: 0.9995\n",
            " - Recall: 0.9995\n",
            " - F1-Score: 0.9995\n",
            "\n",
            "Classification Report - SVM:\n",
            "\n",
            "              precision    recall  f1-score   support\n",
            "\n",
            "           0       1.00      1.00      1.00       260\n",
            "           1       1.00      1.00      1.00      1826\n",
            "           2       1.00      1.00      1.00       280\n",
            "           3       1.00      1.00      1.00      1973\n",
            "\n",
            "    accuracy                           1.00      4339\n",
            "   macro avg       1.00      1.00      1.00      4339\n",
            "weighted avg       1.00      1.00      1.00      4339\n",
            "\n"
          ]
        },
        {
          "output_type": "display_data",
          "data": {
            "text/plain": [
              "<Figure size 600x400 with 2 Axes>"
            ],
            "image/png": "[encoded data removed]"
          },
          "metadata": {}
        },
        {
          "output_type": "stream",
          "name": "stdout",
          "text": [
            "\n",
            "====================================================================\n",
            "\n",
            "Model: Random Forest\n",
            " - Accuracy: 0.9954\n",
            " - Precision: 0.9954\n",
            " - Recall: 0.9954\n",
            " - F1-Score: 0.9954\n",
            "\n",
            "Classification Report - Random Forest:\n",
            "\n",
            "              precision    recall  f1-score   support\n",
            "\n",
            "           0       1.00      1.00      1.00       260\n",
            "           1       1.00      0.99      1.00      1826\n",
            "           2       0.99      0.98      0.99       280\n",
            "           3       0.99      1.00      1.00      1973\n",
            "\n",
            "    accuracy                           1.00      4339\n",
            "   macro avg       1.00      0.99      0.99      4339\n",
            "weighted avg       1.00      1.00      1.00      4339\n",
            "\n"
          ]
        },
        {
          "output_type": "display_data",
          "data": {
            "text/plain": [
              "<Figure size 600x400 with 2 Axes>"
            ],
            "image/png": "[encoded data removed]"
          },
          "metadata": {}
        },
        {
          "output_type": "stream",
          "name": "stdout",
          "text": [
            "\n",
            "====================================================================\n",
            "\n"
          ]
        }
      ],
      "source": [
        "# Inisialisasi model dengan hyperparameter terbaik yang telah ditemukan\n",
        "svm_tuned = SVC(C=100, gamma='scale', kernel='linear').fit(X_train, y_train)\n",
        "rf_tuned = RandomForestClassifier(max_depth= None, min_samples_leaf=1, min_samples_split=2, n_estimators=200).fit(X_train, y_train)\n",
        "\n",
        "# Evaluasi model setelah tuning\n",
        "models = {'SVM': svm_tuned, 'Random Forest': rf_tuned}\n",
        "\n",
        "print(\"Evaluasi Model Setelah Tuning:\\n\")\n",
        "\n",
        "for name, model in models.items():\n",
        "    y_pred = model.predict(X_test)\n",
        "\n",
        "    accuracy = accuracy_score(y_test, y_pred)\n",
        "    precision = precision_score(y_test, y_pred, average='weighted')\n",
        "    recall = recall_score(y_test, y_pred, average='weighted')\n",
        "    f1 = f1_score(y_test, y_pred, average='weighted')\n",
        "\n",
        "    print(f\"Model: {name}\")\n",
        "    print(f\" - Accuracy: {accuracy:.4f}\")\n",
        "    print(f\" - Precision: {precision:.4f}\")\n",
        "    print(f\" - Recall: {recall:.4f}\")\n",
        "    print(f\" - F1-Score: {f1:.4f}\\n\")\n",
        "\n",
        "    # Classification Report\n",
        "    print(f\"Classification Report - {name}:\\n\")\n",
        "    print(classification_report(y_test, y_pred))\n",
        "\n",
        "    # Confusion Matrix\n",
        "    cm = confusion_matrix(y_test, y_pred)\n",
        "    plt.figure(figsize=(6, 4))\n",
        "    sns.heatmap(cm, annot=True, fmt=\"d\", cmap=\"Blues\", xticklabels=set(y_test), yticklabels=set(y_test))\n",
        "    plt.xlabel('Predicted')\n",
        "    plt.ylabel('Actual')\n",
        "    plt.title(f'Confusion Matrix - {name}')\n",
        "    plt.show()\n",
        "    print(\"\\n\" + \"=\"*68 + \"\\n\")"
      ]
    },
    {
      "cell_type": "markdown",
      "metadata": {
        "id": "ZRsOdm4uEgAW"
      },
      "source": [
        "## **e. Analisis Hasil Evaluasi Model Klasifikasi**"
      ]
    },
    {
      "cell_type": "markdown",
      "metadata": {
        "id": "Hm3BhSi6N4_l"
      },
      "source": [
        "Berikut adalah **rekomendasi** tahapannya.\n",
        "1. Bandingkan hasil evaluasi sebelum dan setelah tuning (jika dilakukan).\n",
        "2. Identifikasi kelemahan model, seperti:\n",
        "  - Precision atau Recall rendah untuk kelas tertentu.\n",
        "  - Apakah model mengalami overfitting atau underfitting?\n",
        "3. Berikan rekomendasi tindakan lanjutan, seperti mengumpulkan data tambahan atau mencoba algoritma lain jika hasil belum memuaskan."
      ]
    },
    {
      "cell_type": "markdown",
      "source": [
        "### Perbandingan hasil evaluasi sebelum dan setelah tuning\n",
        "\n",
        "- Sebelum tuning  \n",
        "\n",
        "**SVM**  \n",
        "Accuracy: 0.9945  \n",
        "Precision: 0.9945  \n",
        "Recall: 0.9945  \n",
        "F1-Score: 0.9945  \n",
        "\n",
        "**Random Forest**  \n",
        "Accuracy: 0.9959  \n",
        "Precision: 0.9959  \n",
        "Recall: 0.9959  \n",
        "F1-Score: 0.9958\n",
        "\n",
        "- Setelah tuning\n",
        "\n",
        "**SVM**  \n",
        "Accuracy: 0.9995  \n",
        "Precision: 0.9995  \n",
        "Recall: 0.9995  \n",
        "F1-Score: 0.9995  \n",
        "\n",
        "**Random Forest**  \n",
        "Accuracy: 0.9954  \n",
        "Precision: 0.9954  \n",
        "Recall: 0.9954  \n",
        "F1-Score: 0.9954  \n",
        "\n",
        "SVM mengalami peningkatan signifikan dalam semua metrik evaluasi setelah tuning, dengan accuracy meningkat dari 99.45% menjadi 99.95%. Ini menunjukkan bahwa pemilihan hyperparameter yang lebih optimal meningkatkan kinerja model secara keseluruhan.\n",
        "\n",
        "Random Forest justru terlihat sedikit penurunan pada seluruh metrik setelah tuning.  \n",
        "\n",
        "Tuning berdampak sangat positif terhadap performa SVM, namun tidak terlalu menguntungkan bagi Random Forest. Oleh karena itu, SVM menjadi pilihan model terbaik setelah dilakukan tuning.\n",
        "\n"
      ],
      "metadata": {
        "id": "MUhdP8Pya8iE"
      }
    },
    {
      "cell_type": "markdown",
      "source": [
        "### Identifikasi kelemahan model\n",
        "\n",
        "- KNN dan Decision Tree memiliki performa yang cukup baik, tetapi recall untuk kelas 2 lebih rendah dibandingkan kelas lain (~0.97–0.98). Hal ini menunjukkan bahwa model masih kesulitan mengenali beberapa sampel dari kelas tersebut. Decision Tree juga berpotensi mengalami overfitting, terutama jika tidak dibatasi kedalamannya.\n",
        "- Random Forest dan SVM menunjukkan performa yang lebih stabil dengan hasil evaluasi yang tinggi. Namun, recall untuk kelas 2 pada Random Forest masih sedikit lebih rendah dibandingkan kelas lainnya, meskipun secara keseluruhan model ini tetap unggul.\n",
        "- Naive Bayes memiliki kelemahan signifikan, terutama dalam mengenali kelas 2, dengan recall hanya 0.02. Ini menunjukkan bahwa model mengalami underfitting dan tidak mampu mempelajari pola data dengan baik."
      ],
      "metadata": {
        "id": "sz1VBKWgoRJ3"
      }
    },
    {
      "cell_type": "markdown",
      "source": [
        "### Rekomendasi lanjutan\n",
        "- Jika ada kelas dengan precision atau recall yang lebih rendah (misalnya kelas 2 pada beberapa model), bisa dicoba oversampling (SMOTE) atau undersampling untuk menyeimbangkan jumlah sampel antar kelas.\n",
        "- Jika dataset masih terbatas, mengumpulkan lebih banyak data, terutama untuk kelas yang jumlah sampelnya lebih sedikit, dapat membantu meningkatkan akurasi model."
      ],
      "metadata": {
        "id": "IvCDEAxJLhjw"
      }
    }
  ],
  "metadata": {
    "accelerator": "GPU",
    "colab": {
      "gpuType": "T4",
      "provenance": []
    },
    "kernelspec": {
      "display_name": "Python 3",
      "name": "python3"
    },
    "language_info": {
      "name": "python"
    }
  },
  "nbformat": 4,
  "nbformat_minor": 0
}